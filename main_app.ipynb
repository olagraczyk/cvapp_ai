{
 "cells": [
  {
   "cell_type": "code",
   "execution_count": 1,
   "id": "24c971a1-0368-4593-a982-c869a55a56cf",
   "metadata": {},
   "outputs": [],
   "source": [
    "!pip install google-auth google-auth-oauthlib google-auth-httplib2 google-api-python-client -q\n",
    "!pip install python-dotenv -q"
   ]
  },
  {
   "cell_type": "markdown",
   "id": "8a348d08-ae51-4cfe-a3b3-e8ae1177dbe0",
   "metadata": {},
   "source": [
    "## Connecting to Docks"
   ]
  },
  {
   "cell_type": "code",
   "execution_count": 7,
   "id": "bbc4fc70-b203-42ad-91e6-4e427812e378",
   "metadata": {},
   "outputs": [],
   "source": [
    "import os\n",
    "from google.oauth2.credentials import Credentials\n",
    "from google_auth_oauthlib.flow import InstalledAppFlow\n",
    "from googleapiclient.discovery import build\n",
    "from dotenv import load_dotenv\n",
    "\n",
    "# I only want read access\n",
    "SCOPES = ['https://www.googleapis.com/auth/documents.readonly']\n",
    "\n",
    "# Paths to token and credits\n",
    "#Client secret json is downloaded from my Google Cloud Console\n",
    "CREDS_PATH = 'auth/client_secret.json'\n",
    "# Token json will be auto-created after you authorize your app the first time\n",
    "TOKEN_PATH = 'auth/token.json'\n",
    "\n",
    "def get_credentials():\n",
    "    creds = None\n",
    "    if os.path.exists(TOKEN_PATH):\n",
    "        creds = Credentials.from_authorized_user_file(TOKEN_PATH, SCOPES)\n",
    "    else:\n",
    "        flow = InstalledAppFlow.from_client_secrets_file(CREDS_PATH, SCOPES)\n",
    "        creds = flow.run_local_server(port=0)\n",
    "        with open(TOKEN_PATH, 'w') as token:\n",
    "            token.write(creds.to_json())\n",
    "    return creds\n",
    "\n",
    "def read_google_doc(doc_id):\n",
    "    creds = get_credentials() #Makes sure I am authenticated\n",
    "    service = build('docs', 'v1', credentials=creds) #This connects to Docs API\n",
    "    doc = service.documents().get(documentId=doc_id).execute() #Get the content\n",
    "    \n",
    "    content = \"\"\n",
    "    for element in doc.get(\"body\").get(\"content\"):\n",
    "        if \"paragraph\" in element:\n",
    "            for text_run in element[\"paragraph\"].get(\"elements\", []):\n",
    "                if \"textRun\" in text_run:\n",
    "                    content += text_run[\"textRun\"][\"content\"]\n",
    "    return content\n",
    "\n",
    "#Loads the environment variables, where I have saved the Doc Id\n",
    "load_dotenv()\n",
    "doc_id = os.getenv(\"GOOGLE_DOC_ID\")"
   ]
  },
  {
   "cell_type": "markdown",
   "id": "4471863c-5bf2-4900-afc4-fe9bcf34ab15",
   "metadata": {},
   "source": [
    "App will read the document every time I run it. \n",
    "\n",
    "Content could be cached and stored in a file, but with 8 pages it only took about 4 seconds, and adds additional value, that content is up to date, even if i make changes between uses of the app. Example on how to save the cached text locally is down below"
   ]
  },
  {
   "cell_type": "code",
   "execution_count": 8,
   "id": "edccf051-14c4-4d93-aa50-82a3be260107",
   "metadata": {},
   "outputs": [
    {
     "name": "stdout",
     "output_type": "stream",
     "text": [
      "Linkedin: https://www.linkedin.com/in/ola-graczyk/\n",
      " \n",
      "1.      Work experience\n",
      "1.1   UX/UI Designer\n",
      "Time: October 2024  - November 2024 ( 2 months )\n",
      "Company: DynamicoAI (Now Firemind)\n",
      "About the company: DynamicoAI owned a product called Enhanced IQ. It is an enterprise-grade platform that makes it simple to scale generative AI across the organisation. The platform can be integrated with the most popular databases and systems and sensitive data is protected. It can be used by employees on all levels for example to search company sharepoint,  retrieve data, write structured prompts to make working faster.\n",
      "About my role:\n",
      "As part of my role at DynamicoAI, I was responsible for evaluating the Enhanced IQ platform with a fresh perspective, identifying potential issues, and suggesting improvements. My key responsibilities included:\n",
      "-        Conducted a thorough review of the platform, documenting all observations, usability concerns, and bugs.\n",
      "-        Compiled findings into a structured report\n"
     ]
    }
   ],
   "source": [
    "experience_text = read_google_doc(GOOGLE_DOC_ID)\n",
    "\n",
    "#print some of the content to show that this is working\n",
    "print(experience_text[:1000])\n"
   ]
  },
  {
   "cell_type": "code",
   "execution_count": 5,
   "id": "786e6a2b-0bd0-4763-ba84-370d71daabae",
   "metadata": {},
   "outputs": [],
   "source": [
    "# Save locally\n",
    "with open('cached_experience.txt', 'w', encoding='utf-8') as f:\n",
    "    f.write(experience_text)\n",
    "\n",
    "# Later, you can read from file without hitting Google API\n",
    "# with open('cached_experience.txt', 'r', encoding='utf-8') as f:\n",
    "#     experience_text = f.read()"
   ]
  },
  {
   "cell_type": "markdown",
   "id": "4daad460-64a9-4b70-9b7a-a9fb90f7b98e",
   "metadata": {},
   "source": [
    "## Scrape the web\n"
   ]
  },
  {
   "cell_type": "code",
   "execution_count": 3,
   "id": "41c7bcde-6f29-48a7-b338-8bec215ead53",
   "metadata": {},
   "outputs": [],
   "source": [
    "!pip install requests beautifulsoup4 -q\n",
    "from web_scraper import scrape"
   ]
  },
  {
   "cell_type": "code",
   "execution_count": 7,
   "id": "4063f7e3-aebc-4c19-b1d4-981ce9f0dc44",
   "metadata": {},
   "outputs": [
    {
     "name": "stdin",
     "output_type": "stream",
     "text": [
      "Paste the link to job description:  https://justjoin.it/job-offer/allegro-junior-machine-learning-engineer---e-xperience-associate-warszawa-ai\n"
     ]
    },
    {
     "name": "stdout",
     "output_type": "stream",
     "text": [
      "w\n",
      "AI/ML\n",
      "Junior Machine Learning Engineer - e-Xperience Associate\n",
      "Allegro\n",
      "Warszawa\n",
      "Type of work\n",
      "Full-time\n",
      "Experience\n",
      "Junior\n",
      "Employment Type\n",
      "Permanent\n",
      "Operating mode\n",
      "Hybrid\n",
      "Allegro\n",
      "At Allegro, we build and maintain some of the most distributed and scalable applications in Central Europe. Work with us \n"
     ]
    }
   ],
   "source": [
    "url = input(\"Paste the link to job description: \")\n",
    "\n",
    "scrape(url)\n",
    "\n",
    "with open('job_description.txt', 'r', encoding='utf-8') as f:\n",
    "    job_description = f.read()\n",
    "\n",
    "print(job_description[300:600])"
   ]
  },
  {
   "cell_type": "code",
   "execution_count": null,
   "id": "31c69821-0134-47d5-bb06-4a5e1bf4f9f0",
   "metadata": {},
   "outputs": [],
   "source": []
  }
 ],
 "metadata": {
  "kernelspec": {
   "display_name": "Python 3 (ipykernel)",
   "language": "python",
   "name": "python3"
  },
  "language_info": {
   "codemirror_mode": {
    "name": "ipython",
    "version": 3
   },
   "file_extension": ".py",
   "mimetype": "text/x-python",
   "name": "python",
   "nbconvert_exporter": "python",
   "pygments_lexer": "ipython3",
   "version": "3.12.0"
  }
 },
 "nbformat": 4,
 "nbformat_minor": 5
}
