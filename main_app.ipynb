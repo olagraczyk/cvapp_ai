{
 "cells": [
  {
   "cell_type": "markdown",
   "id": "8a348d08-ae51-4cfe-a3b3-e8ae1177dbe0",
   "metadata": {},
   "source": [
    "## Connecting to Docks"
   ]
  },
  {
   "cell_type": "code",
   "execution_count": 22,
   "id": "24c971a1-0368-4593-a982-c869a55a56cf",
   "metadata": {},
   "outputs": [
    {
     "name": "stdout",
     "output_type": "stream",
     "text": [
      "Note: you may need to restart the kernel to use updated packages.\n",
      "Note: you may need to restart the kernel to use updated packages.\n"
     ]
    }
   ],
   "source": [
    "%pip install google-auth google-auth-oauthlib google-auth-httplib2 google-api-python-client -q\n",
    "%pip install python-dotenv -q"
   ]
  },
  {
   "cell_type": "code",
   "execution_count": 23,
   "id": "966bccf2",
   "metadata": {},
   "outputs": [],
   "source": [
    "import os\n",
    "from google.oauth2.credentials import Credentials\n",
    "from google_auth_oauthlib.flow import InstalledAppFlow\n",
    "from googleapiclient.discovery import build\n",
    "from dotenv import load_dotenv"
   ]
  },
  {
   "cell_type": "code",
   "execution_count": null,
   "id": "bbc4fc70-b203-42ad-91e6-4e427812e378",
   "metadata": {},
   "outputs": [],
   "source": [
    "# I only want read access\n",
    "SCOPES = ['https://www.googleapis.com/auth/documents.readonly']\n",
    "\n",
    "# Paths to token and credits\n",
    "#Client secret json is downloaded from my Google Cloud Console\n",
    "CREDS_PATH = 'auth/client_secret.json'\n",
    "# Token json will be auto-created after you authorize your app the first time\n",
    "TOKEN_PATH = 'auth/token.json'\n",
    "\n",
    "def get_credentials():\n",
    "    creds = None\n",
    "    if os.path.exists(TOKEN_PATH):\n",
    "        creds = Credentials.from_authorized_user_file(TOKEN_PATH, SCOPES)\n",
    "    else:\n",
    "        flow = InstalledAppFlow.from_client_secrets_file(CREDS_PATH, SCOPES)\n",
    "        creds = flow.run_local_server(port=0)\n",
    "        with open(TOKEN_PATH, 'w') as token:\n",
    "            token.write(creds.to_json())\n",
    "    return creds\n",
    "\n",
    "def read_google_doc(doc_id):\n",
    "    creds = get_credentials() #Makes sure I am authenticated\n",
    "    service = build('docs', 'v1', credentials=creds) #This connects to Docs API\n",
    "    doc = service.documents().get(documentId=doc_id).execute() #Get the content\n",
    "    \n",
    "    content = \"\"\n",
    "    for element in doc.get(\"body\").get(\"content\"):\n",
    "        if \"paragraph\" in element:\n",
    "            for text_run in element[\"paragraph\"].get(\"elements\", []):\n",
    "                if \"textRun\" in text_run:\n",
    "                    content += text_run[\"textRun\"][\"content\"]\n",
    "    return content\n",
    "\n",
    "#Loads the environment variables, where I have saved the Doc Id\n",
    "load_dotenv()\n",
    "doc_id = os.getenv(\"GOOGLE_DOC_ID\")"
   ]
  },
  {
   "cell_type": "markdown",
   "id": "4471863c-5bf2-4900-afc4-fe9bcf34ab15",
   "metadata": {},
   "source": [
    "App will read the document every time I run it. \n",
    "\n",
    "Content could be cached and stored in a file, but with 8 pages it only took about 4 seconds, and adds additional value, that content is up to date, even if i make changes between uses of the app. Example on how to save the cached text locally is down below"
   ]
  },
  {
   "cell_type": "code",
   "execution_count": null,
   "id": "edccf051-14c4-4d93-aa50-82a3be260107",
   "metadata": {},
   "outputs": [
    {
     "name": "stdout",
     "output_type": "stream",
     "text": [
      "Linkedin: https://www.linkedin.com/in/ola-graczyk/\n",
      " \n",
      "1.      Work experience\n",
      "1.1   UX/UI Designer\n",
      "Time: October 2024  - November 2024 ( 2 months )\n",
      "Company: DynamicoAI (Now Firemind)\n",
      "About the company: DynamicoAI owned a product called Enhanced IQ. It is an enterprise-grade platform that makes it simple to scale generative AI across the organisation. The platform can be integrated with the most popular databases and systems and sensitive data is protected. It can be used by employees on all levels for example to search company sharepoint,  retrieve data, write structured prompts to make working faster.\n",
      "About my role:\n",
      "As part of my role at DynamicoAI, I was responsible for evaluating the Enhanced IQ platform with a fresh perspective, identifying potential issues, and suggesting improvements. My key responsibilities included:\n",
      "-        Conducted a thorough review of the platform, documenting all observations, usability concerns, and bugs.\n",
      "-        Compiled findings into a structured report\n"
     ]
    }
   ],
   "source": [
    "experience_text = read_google_doc(doc_id)\n",
    "\n",
    "#print some of the content to show that this is working\n",
    "print(experience_text[:1000])"
   ]
  },
  {
   "cell_type": "code",
   "execution_count": 5,
   "id": "786e6a2b-0bd0-4763-ba84-370d71daabae",
   "metadata": {},
   "outputs": [],
   "source": [
    "# Save locally\n",
    "with open('cached_experience.txt', 'w', encoding='utf-8') as f:\n",
    "    f.write(experience_text)\n",
    "\n",
    "# Later, you can read from file without hitting Google API\n",
    "# with open('cached_experience.txt', 'r', encoding='utf-8') as f:\n",
    "#     experience_text = f.read()"
   ]
  },
  {
   "cell_type": "markdown",
   "id": "4daad460-64a9-4b70-9b7a-a9fb90f7b98e",
   "metadata": {},
   "source": [
    "## Scrape the web"
   ]
  },
  {
   "cell_type": "code",
   "execution_count": 5,
   "id": "41c7bcde-6f29-48a7-b338-8bec215ead53",
   "metadata": {},
   "outputs": [
    {
     "name": "stdout",
     "output_type": "stream",
     "text": [
      "Note: you may need to restart the kernel to use updated packages.\n"
     ]
    }
   ],
   "source": [
    "%pip install requests beautifulsoup4 -q\n"
   ]
  },
  {
   "cell_type": "code",
   "execution_count": 6,
   "id": "4063f7e3-aebc-4c19-b1d4-981ce9f0dc44",
   "metadata": {},
   "outputs": [
    {
     "name": "stdin",
     "output_type": "stream",
     "text": [
      "Paste the link to job description:  https://justjoin.it/job-offer/performance-tech-junior-ai-project-manager-solution-designer--warszawa-ai\n"
     ]
    },
    {
     "name": "stdout",
     "output_type": "stream",
     "text": [
      "Junior AI Project Manager (Solution Designer) 🧑‍💻\n",
      "r (Solution Designer) 🧑‍💻\n",
      "Performance Tech\n",
      "Warszawa\n",
      "Type of work\n",
      "Full-time\n",
      "Experience\n",
      "Junior\n",
      "Employment Type\n",
      "B2B, Permanent\n",
      "Operating mode\n",
      "Hybrid\n",
      "Tech stack\n",
      "LLM\n",
      "regular\n",
      "AI\n",
      "regular\n",
      "RPA/IPaaS\n",
      "nice to have\n",
      "JavaScript/Python\n",
      "nice to have\n",
      "Job description\n",
      "Online interview\n",
      "Dołącz do naszego zespołu!\n",
      "Szukam\n"
     ]
    },
    {
     "name": "stdout",
     "output_type": "stream",
     "text": [
      "w\n",
      "AI/ML\n",
      "Junior Machine Learning Engineer - e-Xperience Associate\n",
      "Allegro\n",
      "Warszawa\n",
      "Type of work\n",
      "Full-time\n",
      "Experience\n",
      "Junior\n",
      "Employment Type\n",
      "Permanent\n",
      "Operating mode\n",
      "Hybrid\n",
      "Allegro\n",
      "At Allegro, we build and maintain some of the most distributed and scalable applications in Central Europe. Work with us \n"
     ]
    }
   ],
   "source": [
    "from web_scraper import scrape\n",
    "url = input(\"Paste the link to job description: \")\n",
    "\n",
    "title, job_description = scrape(url)\n",
    "\n",
    "\n",
    "print(title)\n",
    "print(job_description[300:600])"
   ]
  },
  {
   "cell_type": "code",
   "execution_count": 7,
   "id": "75447d69-c49e-40a2-bf8c-44ef4f2a85d6",
   "metadata": {},
   "outputs": [],
   "source": [
    "import re\n",
    "\n",
    "def clean_title(title):\n",
    "    title = re.sub(r'[^\\w\\s]', '', title)\n",
    "    title = title.replace(' ', '_')\n",
    "    title = ' '.join(title.split())\n",
    "    return title.strip()\n",
    "    "
   ]
  },
  {
   "cell_type": "code",
   "execution_count": 8,
   "id": "1498657a-528b-489b-84b6-dff6399d0a2a",
   "metadata": {},
   "outputs": [
    {
     "name": "stdout",
     "output_type": "stream",
     "text": [
      "Folder 'Junior_AI_Project_Manager_Solution_Designer_' already exists.\n"
     ]
    }
   ],
   "source": [
    "import os\n",
    "\n",
    "def create_folder(title):\n",
    "    cleaned_title = clean_title(title)\n",
    "\n",
    "    folder_path = os.path.join(os.getcwd(), cleaned_title)\n",
    "    if not os.path.exists(folder_path):\n",
    "        os.makedirs(folder_path)\n",
    "        print(f\"Folder '{cleaned_title}' created.\")\n",
    "    else:\n",
    "        print(f\"Folder '{cleaned_title}' already exists.\")\n",
    "\n",
    "    return folder_path\n",
    "\n",
    "folder_path = create_folder(title)"
   ]
  },
  {
   "cell_type": "markdown",
   "id": "cbd0b3de",
   "metadata": {},
   "source": [
    "## LLMs + Langchain"
   ]
  },
  {
   "cell_type": "markdown",
   "id": "23c4f937",
   "metadata": {},
   "source": [
    "### Gemini"
   ]
  },
  {
   "cell_type": "code",
   "execution_count": 9,
   "id": "6a4de609",
   "metadata": {},
   "outputs": [],
   "source": [
    "import os\n",
    "from dotenv import load_dotenv\n",
    "load_dotenv()\n",
    "\n",
    "api_key = os.getenv(\"GOOGLE_API_KEY\")"
   ]
  },
  {
   "cell_type": "code",
   "execution_count": null,
   "id": "ca2350cf",
   "metadata": {},
   "outputs": [],
   "source": [
    "%pip install --quiet langchain-core==0.1.23\n",
    "%pip install --quiet langchain==0.1.1\n",
    "%pip install --quiet langchain-google-genai==0.0.6\n",
    "%pip install --quiet -U langchain-community==0.0.20"
   ]
  },
  {
   "cell_type": "code",
   "execution_count": 3,
   "id": "72bb51a5",
   "metadata": {},
   "outputs": [],
   "source": [
    "from langchain import PromptTemplate\n",
    "from langchain.schema import StrOutputParser\n",
    "from langchain.chains import LLMChain"
   ]
  },
  {
   "cell_type": "code",
   "execution_count": null,
   "id": "9bb4881e-8efb-4efc-9524-8f1a77de831f",
   "metadata": {},
   "outputs": [],
   "source": [
    "from langchain_google_genai import ChatGoogleGenerativeAI\n",
    "\n",
    "llm = ChatGoogleGenerativeAI(model=\"gemini-1.5-pro\")"
   ]
  },
  {
   "cell_type": "markdown",
   "id": "126b9dc6-bb56-4e3a-baa7-d7621c63e02c",
   "metadata": {},
   "source": [
    "#### Chain to extract job description"
   ]
  },
  {
   "cell_type": "code",
   "execution_count": 10,
   "id": "c4fecf55",
   "metadata": {},
   "outputs": [
    {
     "name": "stdout",
     "output_type": "stream",
     "text": [
      "1. **Title of a job:** Junior AI Project Manager (Solution Designer)\n",
      "\n",
      "\n",
      "2. **Role Summary Sentences:** This role involves designing, developing, and implementing AI solutions, with a focus on multi-agent systems and intelligent assistants.  The Project Manager will collaborate with development teams to integrate these solutions into web systems and optimize their performance, bridging the gap between technical AI aspects and business needs.  This involves testing, refining AI models, and identifying new application opportunities.\n",
      "\n",
      "\n",
      "3. **Seniority Level and Years of Experience:** Junior level, with a minimum of 2 years of experience in AI project management or software development.\n",
      "\n",
      "\n",
      "4. **Tech stack:** LLM, AI, RPA/IPaaS (nice to have), JavaScript/Python (nice to have).  Requires understanding of AI model architecture, integrations, APIs, databases, prompt engineering, and optimization of language models.\n",
      "\n",
      "\n",
      "5. **Top Soft Skills / Attributes:**  Problem-solving skills, independent work ethic, effective communication, collaboration, ability to bridge technical and business teams.\n",
      "\n",
      "\n",
      "6. **Nice-to-Have Skills or Preferences:** Experience building chatbots and AI assistants, familiarity with RPA/iPaaS systems (UiPath, Automation Anywhere, N8N, Zapier, etc.), and basic programming knowledge (Python, JavaScript).\n",
      "\n",
      "\n",
      "7. **ATS Optimization Keywords:**  AI, LLM, Project Manager, Solution Designer,  AI Project Management, Software Development,  Multi-agent Systems, Intelligent Assistants, Chatbots, RPA, iPaaS,  Python, JavaScript, API, Databases,  Prompt Engineering,  Model Optimization,  Web Systems Integration.\n",
      "\n",
      "\n",
      "8. **Education Requirements:**  Not explicitly stated.\n",
      "\n",
      "\n",
      "9. **Location / Remote Work:** Hybrid, Warszawa, Poland.\n",
      "\n"
     ]
    }
   ],
   "source": [
    "with open(\"job_prompt_template.txt\", \"r\") as file:\n",
    "   job_prompt_template = file.read()\n",
    "\n",
    "job_prompt = PromptTemplate.from_template(job_prompt_template)\n",
    "\n",
    "stuff_chain = (\n",
    "    LLMChain(\n",
    "        prompt=job_prompt, \n",
    "        llm=llm, \n",
    "        output_parser=StrOutputParser() \n",
    "    )\n",
    ")\n",
    "\n",
    "# Pass the job description as part of the chain input\n",
    "job_description_result = stuff_chain.invoke({\"text\": job_description})['text']\n",
    "\n",
    "\n",
    "# Print the result\n",
    "print(job_description_result)"
   ]
  },
  {
   "cell_type": "code",
   "execution_count": 11,
   "id": "bde36e3d-f007-4218-917d-876695051db0",
   "metadata": {},
   "outputs": [],
   "source": [
    "file_path = os.path.join(folder_path, \"job_description.txt\")\n",
    "\n",
    "with open(file_path, \"w\") as file:\n",
    "    file.write(job_description_result)\n"
   ]
  },
  {
   "cell_type": "markdown",
   "id": "7d91c1b7-cdce-4d07-afa7-e53294343540",
   "metadata": {},
   "source": [
    "#### Getting a CV"
   ]
  },
  {
   "cell_type": "code",
   "execution_count": 16,
   "id": "63feb732-7b28-4293-b028-c2ab73212423",
   "metadata": {},
   "outputs": [],
   "source": [
    "with open(\"cv_prompt_template.txt\", \"r\") as file:\n",
    "   cv_prompt_template = file.read()\n",
    "\n",
    "cv_prompt = PromptTemplate.from_template(cv_prompt_template)\n",
    "\n",
    "with open(\"cached_experience.txt\", \"r\") as file:\n",
    "    full_experience = file.read()\n",
    "\n",
    "cv_chain = (\n",
    "    {\"experience\": lambda _: full_experience, \"job_description\": lambda _: job_description_result}\n",
    "    | cv_prompt         \n",
    "    | llm                \n",
    "    | StrOutputParser()  \n",
    ")\n",
    "\n",
    "raw_cv = cv_chain.invoke({})"
   ]
  },
  {
   "cell_type": "code",
   "execution_count": 20,
   "id": "ee7446b4-db93-426e-86bf-418825b8efb2",
   "metadata": {},
   "outputs": [],
   "source": [
    "def clean_markdown_output(text):\n",
    "    return re.sub(r\"^```(?:markdown)?\\n(.*?)\\n```$\", r\"\\1\", text, flags=re.DOTALL)\n",
    "\n",
    "cv = clean_markdown_output(raw_cv)"
   ]
  },
  {
   "cell_type": "code",
   "execution_count": 22,
   "id": "3ffd06fe-1efb-4671-8835-c273b838bfb9",
   "metadata": {},
   "outputs": [],
   "source": [
    "warning_text = '### <span style=\"color:red;\">Remember to check the actual CV output — models can write incorrect information!</span>'\n",
    "\n",
    "cv = warning_text + \"\\n\\n\" + cv"
   ]
  },
  {
   "cell_type": "code",
   "execution_count": 23,
   "id": "1082e548",
   "metadata": {},
   "outputs": [],
   "source": [
    "# Save the CV text as a markdown file\n",
    "file_path = os.path.join(folder_path, \"generated_cv.md\")\n",
    "\n",
    "with open(file_path, \"w\", encoding='utf-8') as file:\n",
    "    file.write(cv)"
   ]
  }
 ],
 "metadata": {
  "kernelspec": {
   "display_name": "Python 3 (ipykernel)",
   "language": "python",
   "name": "python3"
  },
  "language_info": {
   "codemirror_mode": {
    "name": "ipython",
    "version": 3
   },
   "file_extension": ".py",
   "mimetype": "text/x-python",
   "name": "python",
   "nbconvert_exporter": "python",
   "pygments_lexer": "ipython3",
   "version": "3.12.0"
  }
 },
 "nbformat": 4,
 "nbformat_minor": 5
}
